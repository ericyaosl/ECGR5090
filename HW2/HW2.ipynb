{
 "cells": [
  {
   "cell_type": "code",
   "execution_count": 48,
   "id": "01b43ee4",
   "metadata": {},
   "outputs": [],
   "source": [
    "# Machine Learning \n",
    "# HW1\n",
    "# Shanle Yao\n",
    "# 800962310\n",
    "import numpy as np\n",
    "import pandas as pd\n",
    "import matplotlib.pyplot as plt\n",
    "from sklearn.model_selection import train_test_split\n",
    "from sklearn.preprocessing import StandardScaler\n",
    "from sklearn.linear_model import LogisticRegression\n",
    "from sklearn.metrics import confusion_matrix\n",
    "from sklearn import metrics\n",
    "import seaborn as sns\n",
    "import warnings\n",
    "from matplotlib.colors import ListedColormap"
   ]
  },
  {
   "cell_type": "markdown",
   "id": "66486b1c",
   "metadata": {},
   "source": [
    "## Q1"
   ]
  },
  {
   "cell_type": "code",
   "execution_count": 49,
   "id": "26be2e70",
   "metadata": {},
   "outputs": [],
   "source": [
    "df = pd.read_csv('diabetes.csv')\n",
    "X = df.loc[:, 'Pregnancies':'Age'] \n",
    "Y = df.loc[:, 'Outcome'] "
   ]
  },
  {
   "cell_type": "code",
   "execution_count": 50,
   "id": "f75c6c98",
   "metadata": {},
   "outputs": [],
   "source": [
    "X_train,X_test,Y_train,Y_test = train_test_split(X,Y,test_size = 0.2,random_state = 0)\n",
    "sc_X = StandardScaler()\n",
    "X_train = sc_X.fit_transform(X_train)\n",
    "X_test = sc_X.transform(X_test)"
   ]
  },
  {
   "cell_type": "code",
   "execution_count": 51,
   "id": "252ede0a",
   "metadata": {},
   "outputs": [],
   "source": [
    "classifier = LogisticRegression(random_state = 0)\n",
    "classifier.fit(X_train,Y_train)\n",
    "Y_pred = classifier.predict(X_test)"
   ]
  },
  {
   "cell_type": "code",
   "execution_count": 52,
   "id": "2aa287c0",
   "metadata": {},
   "outputs": [],
   "source": [
    "cnf_matrix = confusion_matrix(Y_test, Y_pred)"
   ]
  },
  {
   "cell_type": "code",
   "execution_count": 53,
   "id": "e86665c5",
   "metadata": {},
   "outputs": [
    {
     "name": "stdout",
     "output_type": "stream",
     "text": [
      "Accuracy: 0.8246753246753247\n",
      "Precision: 0.7631578947368421\n",
      "Recall: 0.6170212765957447\n"
     ]
    }
   ],
   "source": [
    "print(\"Accuracy:\",metrics.accuracy_score(Y_test,Y_pred))\n",
    "print(\"Precision:\",metrics.precision_score(Y_test,Y_pred))\n",
    "print(\"Recall:\",metrics.recall_score(Y_test,Y_pred))"
   ]
  },
  {
   "cell_type": "code",
   "execution_count": 54,
   "id": "82d2d85e",
   "metadata": {},
   "outputs": [
    {
     "data": {
      "text/plain": [
       "Text(0.5, 257.44, 'Predicted label')"
      ]
     },
     "execution_count": 54,
     "metadata": {},
     "output_type": "execute_result"
    },
    {
     "data": {
      "image/png": "[encoded data removed]",
      "text/plain": [
       "<Figure size 432x288 with 2 Axes>"
      ]
     },
     "metadata": {
      "needs_background": "light"
     },
     "output_type": "display_data"
    }
   ],
   "source": [
    "class_names=[0,1] # name  of classes \n",
    "fig, ax = plt.subplots() \n",
    "tick_marks = np.arange(len(class_names)) \n",
    "plt.xticks(tick_marks, class_names) \n",
    "plt.yticks(tick_marks, class_names) \n",
    "# create heatmap \n",
    "sns.heatmap(pd.DataFrame(cnf_matrix), annot=True, cmap=\"YlGnBu\" ,fmt='g') \n",
    "ax.xaxis.set_label_position(\"top\") \n",
    "plt.tight_layout() \n",
    "plt.title('Q1 Confusion matrix', y=1.1) \n",
    "plt.ylabel('Actual label') \n",
    "plt.xlabel('Predicted label') "
   ]
  },
  {
   "cell_type": "markdown",
   "id": "a32f090d",
   "metadata": {},
   "source": [
    "## Q2"
   ]
  },
  {
   "cell_type": "code",
   "execution_count": 57,
   "id": "5daf9182",
   "metadata": {},
   "outputs": [],
   "source": [
    "#Naive Bays\n",
    "from sklearn.naive_bayes import GaussianNB \n",
    "classifier = GaussianNB() \n",
    "classifier.fit(X_train, Y_train) \n",
    "Y2_pred  =  classifier.predict(X_test) "
   ]
  },
  {
   "cell_type": "code",
   "execution_count": 59,
   "id": "d5ece03d",
   "metadata": {},
   "outputs": [
    {
     "name": "stdout",
     "output_type": "stream",
     "text": [
      "Accuracy: 0.7922077922077922\n",
      "Precision: 0.6744186046511628\n",
      "Recall: 0.6170212765957447\n"
     ]
    }
   ],
   "source": [
    "from sklearn.metrics import confusion_matrix,accuracy_score \n",
    "print(\"Accuracy:\",metrics.accuracy_score(Y_test,Y2_pred))\n",
    "print(\"Precision:\",metrics.precision_score(Y_test,Y2_pred))\n",
    "print(\"Recall:\",metrics.recall_score(Y_test,Y2_pred))"
   ]
  },
  {
   "cell_type": "code",
   "execution_count": 60,
   "id": "0f3139a1",
   "metadata": {},
   "outputs": [
    {
     "data": {
      "text/plain": [
       "Text(0.5, 257.44, 'Predicted label')"
      ]
     },
     "execution_count": 60,
     "metadata": {},
     "output_type": "execute_result"
    },
    {
     "data": {
      "image/png": "[encoded data removed]",
      "text/plain": [
       "<Figure size 432x288 with 2 Axes>"
      ]
     },
     "metadata": {
      "needs_background": "light"
     },
     "output_type": "display_data"
    }
   ],
   "source": [
    "cnf_matrix = confusion_matrix(Y_test, Y2_pred)\n",
    "class_names=[0,1] # name  of classes \n",
    "fig, ax = plt.subplots() \n",
    "tick_marks = np.arange(len(class_names)) \n",
    "plt.xticks(tick_marks, class_names) \n",
    "plt.yticks(tick_marks, class_names) \n",
    "# create heatmap \n",
    "sns.heatmap(pd.DataFrame(cnf_matrix), annot=True, cmap=\"YlGnBu\" ,fmt='g') \n",
    "ax.xaxis.set_label_position(\"top\") \n",
    "plt.tight_layout() \n",
    "plt.title('Q2 Confusion matrix', y=1.1) \n",
    "plt.ylabel('Actual label') \n",
    "plt.xlabel('Predicted label') "
   ]
  },
  {
   "cell_type": "markdown",
   "id": "fdb5e2b2",
   "metadata": {},
   "source": [
    "## Q3"
   ]
  },
  {
   "cell_type": "code",
   "execution_count": 80,
   "id": "0eda1de1",
   "metadata": {},
   "outputs": [
    {
     "name": "stdout",
     "output_type": "stream",
     "text": [
      "[[87 13]\n",
      " [22 32]]\n",
      "Accuracy: 0.7727272727272727\n",
      "Precision: 0.7111111111111111\n",
      "Recall: 0.5925925925925926\n",
      "\n",
      "[[163  27]\n",
      " [ 50  68]]\n",
      "Accuracy: 0.75\n",
      "Precision: 0.7157894736842105\n",
      "Recall: 0.576271186440678\n",
      "\n",
      "[[249  38]\n",
      " [ 76  99]]\n",
      "Accuracy: 0.7532467532467533\n",
      "Precision: 0.7226277372262774\n",
      "Recall: 0.5657142857142857\n",
      "\n",
      "[[351  50]\n",
      " [ 90 124]]\n",
      "Accuracy: 0.7723577235772358\n",
      "Precision: 0.7126436781609196\n",
      "Recall: 0.5794392523364486\n",
      "\n",
      "[[440  60]\n",
      " [115 153]]\n",
      "Accuracy: 0.7721354166666666\n",
      "Precision: 0.7183098591549296\n",
      "Recall: 0.5708955223880597\n",
      "\n"
     ]
    }
   ],
   "source": [
    "from sklearn.model_selection import KFold\n",
    "\n",
    "kf = KFold(n_splits = 5)\n",
    "predicted_y = []\n",
    "expected_y = []\n",
    "\n",
    "for train_index, test_index in kf.split(X):\n",
    "    X3_train, X3_test = X.iloc[train_index], X.iloc[test_index]\n",
    "    Y3_train, Y3_test = Y.iloc[train_index], Y.iloc[test_index]\n",
    "    \n",
    "    X3_train = sc_X.fit_transform(X3_train)\n",
    "    X3_test = sc_X.transform(X3_test)\n",
    "\n",
    "    classifier = LogisticRegression(random_state = 0)\n",
    "    classifier.fit(X3_train,Y3_train)\n",
    "    Y3_pred = classifier.predict(X3_test)\n",
    "    \n",
    "    predicted_y.extend(Y3_pred)\n",
    "    expected_y.extend(Y3_test)\n",
    "    \n",
    "    cnf_matrix = confusion_matrix(expected_y,predicted_y)\n",
    "    print(cnf_matrix)\n",
    "    print(\"Accuracy:\",metrics.accuracy_score(expected_y,predicted_y))\n",
    "    print(\"Precision:\",metrics.precision_score(expected_y,predicted_y))\n",
    "    print(\"Recall:\",metrics.recall_score(expected_y,predicted_y))\n",
    "    print()"
   ]
  },
  {
   "cell_type": "code",
   "execution_count": 81,
   "id": "0e06fcdd",
   "metadata": {},
   "outputs": [
    {
     "name": "stdout",
     "output_type": "stream",
     "text": [
      "[[35 10]\n",
      " [14 18]]\n",
      "Accuracy: 0.6883116883116883\n",
      "Precision: 0.6428571428571429\n",
      "Recall: 0.5625\n",
      "\n",
      "[[86 14]\n",
      " [23 31]]\n",
      "Accuracy: 0.7597402597402597\n",
      "Precision: 0.6888888888888889\n",
      "Recall: 0.5740740740740741\n",
      "\n",
      "[[124  19]\n",
      " [ 36  52]]\n",
      "Accuracy: 0.7619047619047619\n",
      "Precision: 0.7323943661971831\n",
      "Recall: 0.5909090909090909\n",
      "\n",
      "[[162  28]\n",
      " [ 50  68]]\n",
      "Accuracy: 0.7467532467532467\n",
      "Precision: 0.7083333333333334\n",
      "Recall: 0.576271186440678\n",
      "\n",
      "[[207  33]\n",
      " [ 62  83]]\n",
      "Accuracy: 0.7532467532467533\n",
      "Precision: 0.7155172413793104\n",
      "Recall: 0.5724137931034483\n",
      "\n",
      "[[251  36]\n",
      " [ 75 100]]\n",
      "Accuracy: 0.7597402597402597\n",
      "Precision: 0.7352941176470589\n",
      "Recall: 0.5714285714285714\n",
      "\n",
      "[[307  43]\n",
      " [ 80 109]]\n",
      "Accuracy: 0.7717996289424861\n",
      "Precision: 0.7171052631578947\n",
      "Recall: 0.5767195767195767\n",
      "\n",
      "[[355  47]\n",
      " [ 89 125]]\n",
      "Accuracy: 0.7792207792207793\n",
      "Precision: 0.7267441860465116\n",
      "Recall: 0.5841121495327103\n",
      "\n",
      "[[400  54]\n",
      " [100 138]]\n",
      "Accuracy: 0.7774566473988439\n",
      "Precision: 0.71875\n",
      "Recall: 0.5798319327731093\n",
      "\n",
      "[[443  57]\n",
      " [112 156]]\n",
      "Accuracy: 0.7799479166666666\n",
      "Precision: 0.7323943661971831\n",
      "Recall: 0.582089552238806\n",
      "\n"
     ]
    }
   ],
   "source": [
    "kf = KFold(n_splits = 10)\n",
    "predicted_y = []\n",
    "expected_y = []\n",
    "\n",
    "for train_index, test_index in kf.split(X):\n",
    "    X3_train, X3_test = X.iloc[train_index], X.iloc[test_index]\n",
    "    Y3_train, Y3_test = Y.iloc[train_index], Y.iloc[test_index]\n",
    "    \n",
    "    X3_train = sc_X.fit_transform(X3_train)\n",
    "    X3_test = sc_X.transform(X3_test)\n",
    "\n",
    "    classifier = LogisticRegression(random_state = 0)\n",
    "    classifier.fit(X3_train,Y3_train)\n",
    "    Y3_pred = classifier.predict(X3_test)\n",
    "    \n",
    "    predicted_y.extend(Y3_pred)\n",
    "    expected_y.extend(Y3_test)\n",
    "    \n",
    "    cnf_matrix = confusion_matrix(expected_y,predicted_y)\n",
    "    print(cnf_matrix)\n",
    "    print(\"Accuracy:\",metrics.accuracy_score(expected_y,predicted_y))\n",
    "    print(\"Precision:\",metrics.precision_score(expected_y,predicted_y))\n",
    "    print(\"Recall:\",metrics.recall_score(expected_y,predicted_y))\n",
    "    print()"
   ]
  },
  {
   "cell_type": "markdown",
   "id": "dcf9be34",
   "metadata": {},
   "source": [
    "## Q4"
   ]
  },
  {
   "cell_type": "code",
   "execution_count": 82,
   "id": "3f10e9ff",
   "metadata": {},
   "outputs": [
    {
     "name": "stdout",
     "output_type": "stream",
     "text": [
      "[[84 16]\n",
      " [22 32]]\n",
      "Accuracy: 0.7532467532467533\n",
      "Precision: 0.6666666666666666\n",
      "Recall: 0.5925925925925926\n",
      "\n",
      "[[158  32]\n",
      " [ 50  68]]\n",
      "Accuracy: 0.7337662337662337\n",
      "Precision: 0.68\n",
      "Recall: 0.576271186440678\n",
      "\n",
      "[[240  47]\n",
      " [ 74 101]]\n",
      "Accuracy: 0.7380952380952381\n",
      "Precision: 0.6824324324324325\n",
      "Recall: 0.5771428571428572\n",
      "\n",
      "[[335  66]\n",
      " [ 85 129]]\n",
      "Accuracy: 0.7544715447154472\n",
      "Precision: 0.6615384615384615\n",
      "Recall: 0.602803738317757\n",
      "\n",
      "[[419  81]\n",
      " [109 159]]\n",
      "Accuracy: 0.7526041666666666\n",
      "Precision: 0.6625\n",
      "Recall: 0.5932835820895522\n",
      "\n"
     ]
    }
   ],
   "source": [
    "kf = KFold(n_splits = 5)\n",
    "predicted_y = []\n",
    "expected_y = []\n",
    "\n",
    "for train_index, test_index in kf.split(X):\n",
    "    X3_train, X3_test = X.iloc[train_index], X.iloc[test_index]\n",
    "    Y3_train, Y3_test = Y.iloc[train_index], Y.iloc[test_index]\n",
    "    \n",
    "    X3_train = sc_X.fit_transform(X3_train)\n",
    "    X3_test = sc_X.transform(X3_test)\n",
    "\n",
    "    classifier = GaussianNB()\n",
    "    classifier.fit(X3_train,Y3_train)\n",
    "    Y3_pred = classifier.predict(X3_test)\n",
    "    \n",
    "    predicted_y.extend(Y3_pred)\n",
    "    expected_y.extend(Y3_test)\n",
    "    \n",
    "    cnf_matrix = confusion_matrix(expected_y,predicted_y)\n",
    "    print(cnf_matrix)\n",
    "    print(\"Accuracy:\",metrics.accuracy_score(expected_y,predicted_y))\n",
    "    print(\"Precision:\",metrics.precision_score(expected_y,predicted_y))\n",
    "    print(\"Recall:\",metrics.recall_score(expected_y,predicted_y))\n",
    "    print()"
   ]
  },
  {
   "cell_type": "code",
   "execution_count": null,
   "id": "b9d54df3",
   "metadata": {},
   "outputs": [],
   "source": []
  }
 ],
 "metadata": {
  "kernelspec": {
   "display_name": "Python 3",
   "language": "python",
   "name": "python3"
  },
  "language_info": {
   "codemirror_mode": {
    "name": "ipython",
    "version": 3
   },
   "file_extension": ".py",
   "mimetype": "text/x-python",
   "name": "python",
   "nbconvert_exporter": "python",
   "pygments_lexer": "ipython3",
   "version": "3.8.8"
  }
 },
 "nbformat": 4,
 "nbformat_minor": 5
}
